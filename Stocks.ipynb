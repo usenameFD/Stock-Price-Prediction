{
 "cells": [
  {
   "cell_type": "code",
   "execution_count": 63,
   "id": "47802d97-c04f-4cbd-a6bf-01289a1bcd03",
   "metadata": {},
   "outputs": [],
   "source": [
    "import requests\n",
    "from datetime import datetime\n",
    "import pandas as pd"
   ]
  },
  {
   "cell_type": "code",
   "execution_count": null,
   "id": "abed6741-3f05-474c-9459-25260621080e",
   "metadata": {},
   "outputs": [],
   "source": [
    "api_key = '1212688ede774309ad6e24ee2a5bd970'\n",
    "\n",
    "date = '2024-12-01'  # Date au format YYYY-MM-DD\n",
    "\n",
    "def get_news(date, api_key):\n",
    "    # URL de NewsAPI\n",
    "    url = f'https://newsapi.org/v2/everything?q=adobe&from={date}&sortBy=publishedAt&apiKey={api_key}'\n",
    "\n",
    "    # Faire la requête\n",
    "    response = requests.get(url)\n",
    "\n",
    "    if response.status_code == 200:\n",
    "        data = response.json()\n",
    "        \n",
    "        news_data = []\n",
    "\n",
    "        # Vérifier s'il y a des articles dans la réponse\n",
    "        if data['articles']:\n",
    "            df = pd.json_normalize(data['articles'])[[\"publishedAt\", \"title\", \"description\"]]\n",
    "            \n",
    "            df.columns = [\"Date\", \"News\", \"Description\"]\n",
    "            df[\"News\"] = df[\"News\"] + df[\"Description\"]\n",
    "            df = df[[\"Date\", \"News\"]]\n",
    "            return df\n",
    "        else:\n",
    "            print(\"Aucun article trouvé pour cette date.\")\n",
    "            return pd.DataFrame() \n",
    "    else:\n",
    "        print(f\"Erreur lors de la récupération des actualités. Code : {response.status_code}\")\n",
    "        return pd.DataFrame()"
   ]
  },
  {
   "cell_type": "code",
   "execution_count": 60,
   "id": "d0c215e2-d6b4-41e5-bdea-3683fd254392",
   "metadata": {},
   "outputs": [],
   "source": [
    "df = get_news(date, api_key)"
   ]
  },
  {
   "cell_type": "code",
   "execution_count": 61,
   "id": "9fb0140f-4663-4f5d-8db4-6a5258eddd13",
   "metadata": {},
   "outputs": [
    {
     "data": {
      "text/plain": [
       "(100, 2)"
      ]
     },
     "execution_count": 61,
     "metadata": {},
     "output_type": "execute_result"
    }
   ],
   "source": [
    "df.shape"
   ]
  },
  {
   "cell_type": "code",
   "execution_count": null,
   "id": "1003e96d-b727-46be-91d3-6b802fee0e53",
   "metadata": {},
   "outputs": [],
   "source": [
    "# https://fred.stlouisfed.org/series/EMVMACROBUS\n",
    "# https://fred.stlouisfed.org/series/CPIAUCSL\n",
    "# https://fred.stlouisfed.org/series/EXPINF1YR\n",
    "# https://fred.stlouisfed.org/series/LNS12032195\n",
    "# https://fred.stlouisfed.org/series/UMCSENT"
   ]
  },
  {
   "cell_type": "code",
   "execution_count": 70,
   "id": "3203b17c-0a83-446a-83e8-9c726da02f87",
   "metadata": {},
   "outputs": [],
   "source": [
    "files = [\n",
    "    \"EMVMACROBUS.csv\",\n",
    "    \"CPIAUCSL.csv\",\n",
    "    \"EXPINF1YR.csv\",\n",
    "    \"LNS12032195.csv\",\n",
    "    \"UMCSENT.csv\"\n",
    "]\n",
    "\n",
    "combined_df = None\n",
    "\n",
    "for file in files:\n",
    "    df = pd.read_csv('extra_data/' + file)\n",
    "    if combined_df is None:\n",
    "        combined_df = df  # Premier fichier\n",
    "    else:\n",
    "        combined_df = pd.merge(combined_df, df, on=\"DATE\", how=\"outer\") "
   ]
  },
  {
   "cell_type": "code",
   "execution_count": 72,
   "id": "b1adf8f1-02f2-4817-86cd-24172f75da95",
   "metadata": {},
   "outputs": [
    {
     "data": {
      "text/html": [
       "<div>\n",
       "<style scoped>\n",
       "    .dataframe tbody tr th:only-of-type {\n",
       "        vertical-align: middle;\n",
       "    }\n",
       "\n",
       "    .dataframe tbody tr th {\n",
       "        vertical-align: top;\n",
       "    }\n",
       "\n",
       "    .dataframe thead th {\n",
       "        text-align: right;\n",
       "    }\n",
       "</style>\n",
       "<table border=\"1\" class=\"dataframe\">\n",
       "  <thead>\n",
       "    <tr style=\"text-align: right;\">\n",
       "      <th></th>\n",
       "      <th>DATE</th>\n",
       "      <th>EMVMACROBUS</th>\n",
       "      <th>CPIAUCSL</th>\n",
       "      <th>EXPINF1YR</th>\n",
       "      <th>LNS12032195</th>\n",
       "      <th>UMCSENT</th>\n",
       "    </tr>\n",
       "  </thead>\n",
       "  <tbody>\n",
       "    <tr>\n",
       "      <th>744</th>\n",
       "      <td>2009-01-01</td>\n",
       "      <td>0.17876</td>\n",
       "      <td>211.933</td>\n",
       "      <td>0.473575</td>\n",
       "      <td>6019.0</td>\n",
       "      <td>61.2</td>\n",
       "    </tr>\n",
       "    <tr>\n",
       "      <th>745</th>\n",
       "      <td>2009-02-01</td>\n",
       "      <td>0.19250</td>\n",
       "      <td>212.705</td>\n",
       "      <td>0.381647</td>\n",
       "      <td>6602.0</td>\n",
       "      <td>56.3</td>\n",
       "    </tr>\n",
       "    <tr>\n",
       "      <th>746</th>\n",
       "      <td>2009-03-01</td>\n",
       "      <td>0.17958</td>\n",
       "      <td>212.495</td>\n",
       "      <td>-0.480678</td>\n",
       "      <td>6972.0</td>\n",
       "      <td>57.3</td>\n",
       "    </tr>\n",
       "    <tr>\n",
       "      <th>747</th>\n",
       "      <td>2009-04-01</td>\n",
       "      <td>0.27625</td>\n",
       "      <td>212.709</td>\n",
       "      <td>1.228936</td>\n",
       "      <td>6755.0</td>\n",
       "      <td>65.1</td>\n",
       "    </tr>\n",
       "    <tr>\n",
       "      <th>748</th>\n",
       "      <td>2009-05-01</td>\n",
       "      <td>0.11837</td>\n",
       "      <td>213.022</td>\n",
       "      <td>1.297246</td>\n",
       "      <td>6838.0</td>\n",
       "      <td>68.7</td>\n",
       "    </tr>\n",
       "    <tr>\n",
       "      <th>...</th>\n",
       "      <td>...</td>\n",
       "      <td>...</td>\n",
       "      <td>...</td>\n",
       "      <td>...</td>\n",
       "      <td>...</td>\n",
       "      <td>...</td>\n",
       "    </tr>\n",
       "    <tr>\n",
       "      <th>929</th>\n",
       "      <td>2024-06-01</td>\n",
       "      <td>0.00000</td>\n",
       "      <td>313.049</td>\n",
       "      <td>2.725840</td>\n",
       "      <td>2832.0</td>\n",
       "      <td>68.2</td>\n",
       "    </tr>\n",
       "    <tr>\n",
       "      <th>930</th>\n",
       "      <td>2024-07-01</td>\n",
       "      <td>0.00000</td>\n",
       "      <td>313.534</td>\n",
       "      <td>2.555644</td>\n",
       "      <td>2985.0</td>\n",
       "      <td>66.4</td>\n",
       "    </tr>\n",
       "    <tr>\n",
       "      <th>931</th>\n",
       "      <td>2024-08-01</td>\n",
       "      <td>0.31524</td>\n",
       "      <td>314.121</td>\n",
       "      <td>2.347059</td>\n",
       "      <td>3303.0</td>\n",
       "      <td>67.9</td>\n",
       "    </tr>\n",
       "    <tr>\n",
       "      <th>932</th>\n",
       "      <td>2024-09-01</td>\n",
       "      <td>0.44263</td>\n",
       "      <td>314.686</td>\n",
       "      <td>2.236121</td>\n",
       "      <td>2999.0</td>\n",
       "      <td>70.1</td>\n",
       "    </tr>\n",
       "    <tr>\n",
       "      <th>933</th>\n",
       "      <td>2024-10-01</td>\n",
       "      <td>0.00000</td>\n",
       "      <td>315.454</td>\n",
       "      <td>2.256128</td>\n",
       "      <td>3023.0</td>\n",
       "      <td>70.5</td>\n",
       "    </tr>\n",
       "  </tbody>\n",
       "</table>\n",
       "<p>190 rows × 6 columns</p>\n",
       "</div>"
      ],
      "text/plain": [
       "          DATE  EMVMACROBUS  CPIAUCSL  EXPINF1YR  LNS12032195 UMCSENT\n",
       "744 2009-01-01      0.17876   211.933   0.473575       6019.0    61.2\n",
       "745 2009-02-01      0.19250   212.705   0.381647       6602.0    56.3\n",
       "746 2009-03-01      0.17958   212.495  -0.480678       6972.0    57.3\n",
       "747 2009-04-01      0.27625   212.709   1.228936       6755.0    65.1\n",
       "748 2009-05-01      0.11837   213.022   1.297246       6838.0    68.7\n",
       "..         ...          ...       ...        ...          ...     ...\n",
       "929 2024-06-01      0.00000   313.049   2.725840       2832.0    68.2\n",
       "930 2024-07-01      0.00000   313.534   2.555644       2985.0    66.4\n",
       "931 2024-08-01      0.31524   314.121   2.347059       3303.0    67.9\n",
       "932 2024-09-01      0.44263   314.686   2.236121       2999.0    70.1\n",
       "933 2024-10-01      0.00000   315.454   2.256128       3023.0    70.5\n",
       "\n",
       "[190 rows x 6 columns]"
      ]
     },
     "execution_count": 72,
     "metadata": {},
     "output_type": "execute_result"
    }
   ],
   "source": [
    "start_date = \"2009-01-01\"\n",
    "end_date = \"2024-10-31\"\n",
    "\n",
    "combined_df['DATE'] = pd.to_datetime(combined_df['DATE'])\n",
    "\n",
    "# Filtrer les dates dans l'intervalle\n",
    "filtered_df = combined_df[(combined_df['DATE'] >= start_date) & (combined_df['DATE'] <= end_date)]\n",
    "\n",
    "filtered_df"
   ]
  },
  {
   "cell_type": "code",
   "execution_count": 73,
   "id": "542990ea-a76f-4042-a482-b0979b547fed",
   "metadata": {},
   "outputs": [
    {
     "name": "stdout",
     "output_type": "stream",
     "text": [
      "Taux de valeurs manquantes par colonne (%):\n",
      "DATE           0.0\n",
      "EMVMACROBUS    0.0\n",
      "CPIAUCSL       0.0\n",
      "EXPINF1YR      0.0\n",
      "LNS12032195    0.0\n",
      "UMCSENT        0.0\n",
      "dtype: float64\n"
     ]
    }
   ],
   "source": [
    "missing_rate = filtered_df.isnull().mean() * 100\n",
    "\n",
    "print(\"Taux de valeurs manquantes par colonne (%):\")\n",
    "print(missing_rate)"
   ]
  },
  {
   "cell_type": "code",
   "execution_count": 74,
   "id": "fdd27f94-01e7-456b-99df-3a9c7ac767da",
   "metadata": {},
   "outputs": [],
   "source": [
    "combined_df.to_csv(\"macro_sentiment_info.csv\", index=False)"
   ]
  },
  {
   "cell_type": "code",
   "execution_count": null,
   "id": "f45c38f9-e58f-4bed-847c-426a18433074",
   "metadata": {},
   "outputs": [],
   "source": []
  }
 ],
 "metadata": {
  "kernelspec": {
   "display_name": "Python 3 (ipykernel)",
   "language": "python",
   "name": "python3"
  },
  "language_info": {
   "codemirror_mode": {
    "name": "ipython",
    "version": 3
   },
   "file_extension": ".py",
   "mimetype": "text/x-python",
   "name": "python",
   "nbconvert_exporter": "python",
   "pygments_lexer": "ipython3",
   "version": "3.12.6"
  }
 },
 "nbformat": 4,
 "nbformat_minor": 5
}
