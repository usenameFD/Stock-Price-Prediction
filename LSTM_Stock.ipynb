{
  "nbformat": 4,
  "nbformat_minor": 0,
  "metadata": {
    "colab": {
      "provenance": [],
      "gpuType": "T4"
    },
    "kernelspec": {
      "name": "python3",
      "display_name": "Python 3"
    },
    "language_info": {
      "name": "python"
    },
    "accelerator": "GPU"
  },
  "cells": [
    {
      "cell_type": "code",
      "source": [
        "! pip install ta"
      ],
      "metadata": {
        "colab": {
          "base_uri": "https://localhost:8080/"
        },
        "id": "W85K3pi0wUKa",
        "outputId": "549a565e-97bc-4af0-8303-02d4472e04ad"
      },
      "execution_count": 1,
      "outputs": [
        {
          "output_type": "stream",
          "name": "stdout",
          "text": [
            "Collecting ta\n",
            "  Downloading ta-0.11.0.tar.gz (25 kB)\n",
            "  Preparing metadata (setup.py) ... \u001b[?25l\u001b[?25hdone\n",
            "Requirement already satisfied: numpy in /usr/local/lib/python3.10/dist-packages (from ta) (1.26.4)\n",
            "Requirement already satisfied: pandas in /usr/local/lib/python3.10/dist-packages (from ta) (2.2.2)\n",
            "Requirement already satisfied: python-dateutil>=2.8.2 in /usr/local/lib/python3.10/dist-packages (from pandas->ta) (2.8.2)\n",
            "Requirement already satisfied: pytz>=2020.1 in /usr/local/lib/python3.10/dist-packages (from pandas->ta) (2024.2)\n",
            "Requirement already satisfied: tzdata>=2022.7 in /usr/local/lib/python3.10/dist-packages (from pandas->ta) (2024.2)\n",
            "Requirement already satisfied: six>=1.5 in /usr/local/lib/python3.10/dist-packages (from python-dateutil>=2.8.2->pandas->ta) (1.17.0)\n",
            "Building wheels for collected packages: ta\n",
            "  Building wheel for ta (setup.py) ... \u001b[?25l\u001b[?25hdone\n",
            "  Created wheel for ta: filename=ta-0.11.0-py3-none-any.whl size=29412 sha256=d70a4582c951a79c9d75f32df970a840fcbaae70212c33d13dc331c09146a303\n",
            "  Stored in directory: /root/.cache/pip/wheels/5f/67/4f/8a9f252836e053e532c6587a3230bc72a4deb16b03a829610b\n",
            "Successfully built ta\n",
            "Installing collected packages: ta\n",
            "Successfully installed ta-0.11.0\n"
          ]
        }
      ]
    },
    {
      "cell_type": "code",
      "execution_count": 2,
      "metadata": {
        "id": "CbwilAMEuq-p"
      },
      "outputs": [],
      "source": [
        "import pandas as pd\n",
        "import numpy as np\n",
        "import yfinance as yf\n",
        "from ta.trend import SMAIndicator, EMAIndicator, MACD\n",
        "from ta.momentum import RSIIndicator\n",
        "from ta.volume import OnBalanceVolumeIndicator\n",
        "from pandas.tseries.offsets import BDay\n",
        "\n",
        "import matplotlib.pyplot as plt\n",
        "from sklearn.preprocessing import MinMaxScaler\n",
        "from sklearn.metrics import mean_squared_error, mean_absolute_error\n",
        "import torch\n",
        "import torch.nn as nn\n",
        "from torch.utils.data import DataLoader, TensorDataset\n",
        "\n",
        "from tqdm import tqdm"
      ]
    },
    {
      "cell_type": "code",
      "source": [
        "from google.colab import drive\n",
        "drive.mount('/content/drive')"
      ],
      "metadata": {
        "colab": {
          "base_uri": "https://localhost:8080/"
        },
        "id": "c_5krLpavzmV",
        "outputId": "a56e6736-ed7d-481a-c3a5-f807992513b7"
      },
      "execution_count": 3,
      "outputs": [
        {
          "output_type": "stream",
          "name": "stdout",
          "text": [
            "Mounted at /content/drive\n"
          ]
        }
      ]
    },
    {
      "cell_type": "code",
      "source": [
        "# Récupérer les données boursières\n",
        "def get_stock_data(symbol, start, end):\n",
        "    data = yf.download(symbol, start=start, end=end)\n",
        "    data.columns = ['Adj Close', 'Close', 'High', 'Low', 'Open', 'Volume']\n",
        "    return data\n",
        "\n",
        "# Calcul des indicateurs techniques\n",
        "def calculate_indicators(df):\n",
        "    df['MAV5Day'] = SMAIndicator(df['Volume'], window=5).sma_indicator()\n",
        "    df['RSI3Day'] = RSIIndicator(df['Close'], window=3).rsi()\n",
        "    df['RSI9Day'] = RSIIndicator(df['Close'], window=9).rsi()\n",
        "    df['RSI14Day'] = RSIIndicator(df['Close'], window=14).rsi()\n",
        "    df['RSI30Day'] = RSIIndicator(df['Close'], window=30).rsi()\n",
        "    df['MA10Day'] = SMAIndicator(df['Close'], window=10).sma_indicator()\n",
        "    df['MA30Day'] = SMAIndicator(df['Close'], window=30).sma_indicator()\n",
        "    df['MA50Day'] = SMAIndicator(df['Close'], window=50).sma_indicator()\n",
        "    df['EMA10Day'] = EMAIndicator(df['Close'], window=10).ema_indicator()\n",
        "\n",
        "    # Variation de prix\n",
        "    df['PriceChange'] = df['Close'].diff()\n",
        "    df['CloseOpenDiff'] = df['Close'] - df['Open']\n",
        "    df['HighLowDiff'] = df['High'] - df['Low']\n",
        "\n",
        "    # MACD\n",
        "    macd = MACD(df['Close'])\n",
        "    df['MACD'] = macd.macd()\n",
        "    df['Signal'] = macd.macd_signal()\n",
        "\n",
        "    # OBV\n",
        "    obv = OnBalanceVolumeIndicator(df['Close'], df['Volume'])\n",
        "    df['OBV'] = obv.on_balance_volume()\n",
        "\n",
        "    return df\n",
        "\n",
        "# Créer le DataFrame complet\n",
        "def create_stock_dataframe(symbol, start, end, sp500='^GSPC', cac40='^FCHI'):\n",
        "    data = get_stock_data(symbol, start, end)\n",
        "    data = calculate_indicators(data)\n",
        "\n",
        "    sp500_data = get_stock_data(sp500, start, end)[['Close']]\n",
        "    cac40_data = get_stock_data(cac40, start, end)[['Close']]\n",
        "\n",
        "    sp500_data.columns = ['SP_Close']\n",
        "    cac40_data.columns = ['CAC_Close']\n",
        "\n",
        "    df = data.merge(sp500_data, left_index=True, right_index=True, how='left')\n",
        "    df = df.merge(cac40_data, left_index=True, right_index=True, how='left')\n",
        "\n",
        "    return df"
      ],
      "metadata": {
        "id": "1cC9Z60QvV3R"
      },
      "execution_count": 4,
      "outputs": []
    },
    {
      "cell_type": "code",
      "source": [
        "# Récupérer les données et combiner\n",
        "start_date = '2010-01-01'\n",
        "end_date = '2024-10-31'\n",
        "df_stock = create_stock_dataframe('ADBE', start_date, end_date)\n",
        "\n",
        "# Ajouter Quarter et manipulations temporelles\n",
        "df_stock['Date'] = pd.to_datetime(df_stock.index)\n",
        "\n",
        "df_stock['Quarter'] = df_stock['Date'].dt.to_period('M').astype(str)"
      ],
      "metadata": {
        "colab": {
          "base_uri": "https://localhost:8080/"
        },
        "id": "mSSJ9HNtvZRn",
        "outputId": "92b9add0-bf04-41a4-8dde-34a30b2e578a"
      },
      "execution_count": 5,
      "outputs": [
        {
          "output_type": "stream",
          "name": "stderr",
          "text": [
            "[*********************100%***********************]  1 of 1 completed\n",
            "[*********************100%***********************]  1 of 1 completed\n",
            "[*********************100%***********************]  1 of 1 completed\n"
          ]
        }
      ]
    },
    {
      "cell_type": "code",
      "source": [
        "macro_sentiment = pd.read_csv('/content/drive/MyDrive/Deep Learning ENSAI/macro_sentiment_info.csv')\n",
        "macro_sentiment['DATE'] = pd.to_datetime(macro_sentiment['DATE'])\n",
        "macro_sentiment['Quarter'] = macro_sentiment['DATE'].dt.to_period('M').astype(str)\n",
        "\n",
        "combined_df = pd.merge(df_stock, macro_sentiment, on='Quarter', how='left')\n",
        "combined_df.drop(columns=['Quarter', 'DATE'], inplace=True)\n",
        "combined_df.sort_values(by='Date', inplace=True)"
      ],
      "metadata": {
        "id": "y8xfRNHQvdT7"
      },
      "execution_count": 6,
      "outputs": []
    },
    {
      "cell_type": "code",
      "source": [
        "vol_data = pd.read_csv('/content/drive/MyDrive/Deep Learning ENSAI/volatilite_estimee.csv')\n",
        "vol_data['Date'] = pd.to_datetime(vol_data['Date'])\n",
        "combined_df = pd.merge(combined_df, vol_data, on='Date', how='left')\n",
        "\n",
        "# Imputation des valeurs manquantes\n",
        "combined_df[['SP_Close', 'CAC_Close']] = combined_df[['SP_Close', 'CAC_Close']].ffill()\n",
        "\n",
        "missing_sp500 = combined_df['SP_Close'].isna().sum()\n",
        "missing_cac40 = combined_df['CAC_Close'].isna().sum()\n",
        "\n",
        "print(f\"Nombre de valeurs manquantes dans SP_Close après imputation : {missing_sp500}\")\n",
        "print(f\"Nombre de valeurs manquantes dans CAC_Close après imputation : {missing_cac40}\")"
      ],
      "metadata": {
        "colab": {
          "base_uri": "https://localhost:8080/"
        },
        "id": "6tgV_Ry9vfiF",
        "outputId": "1a9ec57c-9ea3-4138-d0d2-dbdc27b5f820"
      },
      "execution_count": 7,
      "outputs": [
        {
          "output_type": "stream",
          "name": "stdout",
          "text": [
            "Nombre de valeurs manquantes dans SP_Close après imputation : 0\n",
            "Nombre de valeurs manquantes dans CAC_Close après imputation : 0\n"
          ]
        }
      ]
    },
    {
      "cell_type": "code",
      "source": [
        "combined_df['sovereign_debt_crisis'] = ((combined_df['Date'] >= '2010-01-01') &\n",
        "                                        (combined_df['Date'] <= '2012-12-31')).astype(int)\n",
        "\n",
        "combined_df['oil_shock'] = ((combined_df['Date'] >= '2014-01-01') &\n",
        "                            (combined_df['Date'] <= '2016-12-31')).astype(int)\n",
        "\n",
        "combined_df['trade_war'] = ((combined_df['Date'] >= '2018-01-01') &\n",
        "                            (combined_df['Date'] <= '2019-12-31')).astype(int)\n",
        "\n",
        "combined_df['covid_pandemic'] = ((combined_df['Date'] >= '2020-01-01') &\n",
        "                                 (combined_df['Date'] <= '2022-12-31')).astype(int)\n",
        "\n",
        "combined_df['war_ukraine'] = (combined_df['Date'] >= '2022-02-24').astype(int)"
      ],
      "metadata": {
        "id": "5QplP15C3MR5"
      },
      "execution_count": 8,
      "outputs": []
    },
    {
      "cell_type": "code",
      "source": [
        "# Rendement logarithmique\n",
        "combined_df['Rend'] = np.log(combined_df['Close'] / combined_df['Close'].shift(1))\n",
        "\n",
        "combined_df['Close'].describe()"
      ],
      "metadata": {
        "colab": {
          "base_uri": "https://localhost:8080/",
          "height": 335
        },
        "id": "Vai7wzUdvnQJ",
        "outputId": "d2038c62-f797-4a6e-e3d5-f3689a19fc86"
      },
      "execution_count": 9,
      "outputs": [
        {
          "output_type": "execute_result",
          "data": {
            "text/plain": [
              "count    3732.000000\n",
              "mean      224.193682\n",
              "std       193.866639\n",
              "min        22.690001\n",
              "25%        49.185000\n",
              "50%       139.305000\n",
              "75%       379.185005\n",
              "max       688.369995\n",
              "Name: Close, dtype: float64"
            ],
            "text/html": [
              "<div>\n",
              "<style scoped>\n",
              "    .dataframe tbody tr th:only-of-type {\n",
              "        vertical-align: middle;\n",
              "    }\n",
              "\n",
              "    .dataframe tbody tr th {\n",
              "        vertical-align: top;\n",
              "    }\n",
              "\n",
              "    .dataframe thead th {\n",
              "        text-align: right;\n",
              "    }\n",
              "</style>\n",
              "<table border=\"1\" class=\"dataframe\">\n",
              "  <thead>\n",
              "    <tr style=\"text-align: right;\">\n",
              "      <th></th>\n",
              "      <th>Close</th>\n",
              "    </tr>\n",
              "  </thead>\n",
              "  <tbody>\n",
              "    <tr>\n",
              "      <th>count</th>\n",
              "      <td>3732.000000</td>\n",
              "    </tr>\n",
              "    <tr>\n",
              "      <th>mean</th>\n",
              "      <td>224.193682</td>\n",
              "    </tr>\n",
              "    <tr>\n",
              "      <th>std</th>\n",
              "      <td>193.866639</td>\n",
              "    </tr>\n",
              "    <tr>\n",
              "      <th>min</th>\n",
              "      <td>22.690001</td>\n",
              "    </tr>\n",
              "    <tr>\n",
              "      <th>25%</th>\n",
              "      <td>49.185000</td>\n",
              "    </tr>\n",
              "    <tr>\n",
              "      <th>50%</th>\n",
              "      <td>139.305000</td>\n",
              "    </tr>\n",
              "    <tr>\n",
              "      <th>75%</th>\n",
              "      <td>379.185005</td>\n",
              "    </tr>\n",
              "    <tr>\n",
              "      <th>max</th>\n",
              "      <td>688.369995</td>\n",
              "    </tr>\n",
              "  </tbody>\n",
              "</table>\n",
              "</div><br><label><b>dtype:</b> float64</label>"
            ]
          },
          "metadata": {},
          "execution_count": 9
        }
      ]
    },
    {
      "cell_type": "code",
      "source": [
        "# Préparation des données\n",
        "def create_sequences(data, seq_length):\n",
        "    sequences = []\n",
        "    targets = []\n",
        "    for i in range(len(data) - seq_length):\n",
        "        sequences.append(data[i:i + seq_length])\n",
        "        targets.append(data[i + seq_length, 0])\n",
        "    return torch.tensor(sequences, dtype=torch.float32), torch.tensor(targets, dtype=torch.float32)"
      ],
      "metadata": {
        "id": "oMRw-OuHx5W5"
      },
      "execution_count": 10,
      "outputs": []
    },
    {
      "cell_type": "code",
      "source": [
        "combined_df['Date'] = pd.to_datetime(combined_df['Date'])\n",
        "\n",
        "# Trouver l'index correspondant au 1er janvier 2024\n",
        "split_date = pd.Timestamp('2024-01-01')\n",
        "split_index = combined_df[combined_df['Date'] >= split_date].index[0]"
      ],
      "metadata": {
        "id": "9K4bLSLeLlAJ"
      },
      "execution_count": 11,
      "outputs": []
    },
    {
      "cell_type": "code",
      "source": [
        "len(['Close', 'Volume', 'MAV5Day', 'RSI3Day', 'RSI9Day', 'RSI14Day', 'RSI30Day', 'MA10Day', 'MA30Day','MA50Day', 'EMA10Day', 'PriceChange', 'CloseOpenDiff', 'HighLowDiff',\n",
        "       'MACD', 'Signal', 'OBV', 'SP_Close', 'CAC_Close', 'EMVMACROBUS','CPIAUCSL', 'EXPINF1YR', 'LNS12032195', 'UMCSENT',\n",
        "            'Sigma', 'Sigma2', 'sovereign_debt_crisis', 'oil_shock', 'trade_war', 'covid_pandemic', 'war_ukraine'])"
      ],
      "metadata": {
        "colab": {
          "base_uri": "https://localhost:8080/"
        },
        "id": "hkTG7G_ZI8qL",
        "outputId": "dcaa6f48-83a4-455b-cb51-0a3821119c8c"
      },
      "execution_count": 12,
      "outputs": [
        {
          "output_type": "execute_result",
          "data": {
            "text/plain": [
              "31"
            ]
          },
          "metadata": {},
          "execution_count": 12
        }
      ]
    },
    {
      "cell_type": "code",
      "source": [
        "# Prétraitement des données\n",
        "features = ['Close', 'Volume', 'MAV5Day', 'RSI3Day', 'RSI9Day', 'RSI14Day', 'RSI30Day', 'MA10Day', 'MA30Day','MA50Day', 'EMA10Day', 'PriceChange', 'CloseOpenDiff', 'HighLowDiff',\n",
        "       'MACD', 'Signal', 'OBV', 'SP_Close', 'CAC_Close', 'EMVMACROBUS','CPIAUCSL', 'EXPINF1YR', 'LNS12032195', 'UMCSENT',\n",
        "            'Sigma', 'Sigma2', 'sovereign_debt_crisis', 'oil_shock', 'trade_war', 'covid_pandemic', 'war_ukraine']\n",
        "\n",
        "\n",
        "data = combined_df[['Date'] + features]\n",
        "data = data.dropna()\n",
        "data.set_index('Date', inplace=True)\n",
        "\n",
        "scaler = MinMaxScaler()\n",
        "data_scaled = scaler.fit_transform(data)\n",
        "\n",
        "# Paramètres\n",
        "seq_length = 40\n",
        "\n",
        "# Séparer les données en train et test\n",
        "train_data = data_scaled[:split_index]\n",
        "test_data = data_scaled[split_index - seq_length:]\n",
        "\n",
        "X_train, y_train = create_sequences(train_data, seq_length)\n",
        "X_test, y_test = create_sequences(test_data, seq_length)\n",
        "\n",
        "# Dataloader\n",
        "batch_size = 32\n",
        "train_dataset = TensorDataset(X_train, y_train)\n",
        "test_dataset = TensorDataset(X_test, y_test)\n",
        "train_loader = DataLoader(train_dataset, batch_size=batch_size, shuffle=True)\n",
        "test_loader = DataLoader(test_dataset, batch_size=batch_size, shuffle=False)"
      ],
      "metadata": {
        "id": "l3JniSoA5WcO"
      },
      "execution_count": 22,
      "outputs": []
    },
    {
      "cell_type": "code",
      "source": [
        "# Création du modèle LSTM Bidirectionnel\n",
        "class BiLSTMModel(nn.Module):\n",
        "    def __init__(self, input_dim, hidden_dim, output_dim, num_layers, dropout):\n",
        "        super(BiLSTMModel, self).__init__()\n",
        "        self.lstm = nn.LSTM(input_dim, hidden_dim, num_layers, dropout=dropout, batch_first=True, bidirectional=True)\n",
        "        self.fc = nn.Linear(hidden_dim * 2, output_dim)\n",
        "\n",
        "    def forward(self, x):\n",
        "        out, _ = self.lstm(x)\n",
        "        out = self.fc(out[:, -1, :])\n",
        "        return out\n",
        "\n",
        "input_dim = X_train.shape[2]\n",
        "hidden_dim = 40\n",
        "output_dim = 1\n",
        "num_layers = 2\n",
        "dropout = 0.2\n",
        "\n",
        "model = BiLSTMModel(input_dim, hidden_dim, output_dim, num_layers, dropout)\n",
        "criterion = nn.MSELoss()\n",
        "optimizer = torch.optim.Adam(model.parameters(), lr=0.001)"
      ],
      "metadata": {
        "id": "FIkszy1s6aBx"
      },
      "execution_count": 23,
      "outputs": []
    },
    {
      "cell_type": "code",
      "source": [
        "# Entraînement\n",
        "epochs = 15\n",
        "for epoch in tqdm(range(epochs), \"Epoch\"):\n",
        "    model.train()\n",
        "    for batch_X, batch_y in train_loader:\n",
        "        optimizer.zero_grad()\n",
        "        outputs = model(batch_X)\n",
        "        loss = criterion(outputs, batch_y.unsqueeze(1))\n",
        "        loss.backward()\n",
        "        optimizer.step()"
      ],
      "metadata": {
        "colab": {
          "base_uri": "https://localhost:8080/"
        },
        "id": "km4gSv486U_0",
        "outputId": "d433c45f-e34c-4901-9785-00ff5a6ab243"
      },
      "execution_count": 24,
      "outputs": [
        {
          "output_type": "stream",
          "name": "stderr",
          "text": [
            "Epoch: 100%|██████████| 15/15 [00:29<00:00,  1.94s/it]\n"
          ]
        }
      ]
    },
    {
      "cell_type": "code",
      "source": [
        "# Évaluation\n",
        "model.eval()\n",
        "y_pred = []\n",
        "y_true = []\n",
        "with torch.no_grad():\n",
        "    for batch_X, batch_y in test_loader:\n",
        "        outputs = model(batch_X)\n",
        "        y_pred.append(outputs.numpy())\n",
        "        y_true.append(batch_y.numpy())\n",
        "\n",
        "y_pred = np.concatenate(y_pred).flatten()\n",
        "y_true = np.concatenate(y_true).flatten()\n",
        "\n",
        "# Inverse scaling\n",
        "y_test_inv = scaler.inverse_transform(np.concatenate((y_true.reshape(-1, 1), test_data[seq_length:, 1:]), axis=1))[:, 0]\n",
        "y_pred_inv = scaler.inverse_transform(np.concatenate((y_pred.reshape(-1, 1), test_data[seq_length:, 1:]), axis=1))[:, 0]\n",
        "\n",
        "# Évaluation des performances\n",
        "rmse = np.sqrt(mean_squared_error(y_test_inv, y_pred_inv))\n",
        "mae = mean_absolute_error(y_test_inv, y_pred_inv)\n",
        "mape = np.mean(np.abs((y_test_inv - y_pred_inv) / y_test_inv)) * 100\n",
        "\n",
        "print(f\"RMSE: {rmse}\")\n",
        "print(f\"MAE: {mae}\")\n",
        "print(f\"MAPE: {mape}%\")"
      ],
      "metadata": {
        "colab": {
          "base_uri": "https://localhost:8080/"
        },
        "id": "siPk5Y1g7KRM",
        "outputId": "1ff573e7-384e-450a-9b01-004119ead20f"
      },
      "execution_count": 25,
      "outputs": [
        {
          "output_type": "stream",
          "name": "stdout",
          "text": [
            "RMSE: 18.66657893544269\n",
            "MAE: 13.876566214467529\n",
            "MAPE: 2.6888787861106116%\n"
          ]
        }
      ]
    },
    {
      "cell_type": "code",
      "source": [
        "# Visualisation\n",
        "plt.figure(figsize=(10, 6))\n",
        "#plt.plot(data.index, data.Close, label='Série complète')\n",
        "plt.plot(data.index[-len(y_test_inv):], y_test_inv, label='Actual')\n",
        "plt.plot(data.index[-len(y_pred_inv):], y_pred_inv, label='Predicted')\n",
        "plt.legend()\n",
        "plt.xlabel('Date')\n",
        "plt.ylabel('Price')\n",
        "plt.show()"
      ],
      "metadata": {
        "colab": {
          "base_uri": "https://localhost:8080/",
          "height": 542
        },
        "id": "A_oeqO4b7PAw",
        "outputId": "e2da8bbe-ebd9-4cb8-f474-11268d1b9581"
      },
      "execution_count": 26,
      "outputs": [
        {
          "output_type": "display_data",
          "data": {
            "text/plain": [
              "<Figure size 1000x600 with 1 Axes>"
            ],
            "image/png": "[encoded data removed]"
          },
          "metadata": {}
        }
      ]
    },
    {
      "cell_type": "code",
      "source": [
        "# Analyse de la contribution des variables\n",
        "def variable_contribution(data, model, seq_length):\n",
        "    base_loss = rmse\n",
        "    contributions = []\n",
        "\n",
        "    for i in tqdm(range(1, data.shape[1]), desc=\"Contribution\"):\n",
        "        permuted_losses = []\n",
        "\n",
        "        for _ in range(30):\n",
        "            temp_data = test_data.copy()\n",
        "            np.random.shuffle(temp_data[:, i])\n",
        "            X_temp, y_temp = create_sequences(temp_data, seq_length)\n",
        "\n",
        "            model.eval()\n",
        "            y_temp_pred = []\n",
        "            with torch.no_grad():\n",
        "                for X_batch, _ in DataLoader(TensorDataset(X_temp, y_temp), batch_size=batch_size, shuffle=False):\n",
        "                    outputs = model(X_batch)\n",
        "                    y_temp_pred.append(outputs.numpy())\n",
        "\n",
        "            y_temp_pred = np.concatenate(y_temp_pred).flatten()\n",
        "\n",
        "            y_temp_pred = scaler.inverse_transform(\n",
        "                np.concatenate((y_temp_pred.reshape(-1, 1), test_data[seq_length:, 1:]), axis=1)\n",
        "            )[:, 0]\n",
        "\n",
        "            y_temp = scaler.inverse_transform(\n",
        "                np.concatenate((y_temp.reshape(-1, 1), test_data[seq_length:, 1:]), axis=1)\n",
        "            )[:, 0]\n",
        "\n",
        "            temp_loss = np.sqrt(mean_squared_error(y_temp, y_temp_pred))\n",
        "            permuted_losses.append(temp_loss)\n",
        "\n",
        "        contributions.append(np.mean(permuted_losses) - base_loss)\n",
        "\n",
        "    return contributions"
      ],
      "metadata": {
        "id": "Jusl00Yi8wNa"
      },
      "execution_count": 27,
      "outputs": []
    },
    {
      "cell_type": "code",
      "source": [
        "contributions = variable_contribution(data_scaled, model, seq_length)"
      ],
      "metadata": {
        "colab": {
          "base_uri": "https://localhost:8080/"
        },
        "id": "Y50kP9u2-B1b",
        "outputId": "90edad8a-c490-4aa0-a840-2050f06a0504"
      },
      "execution_count": 28,
      "outputs": [
        {
          "output_type": "stream",
          "name": "stderr",
          "text": [
            "Contribution: 100%|██████████| 8/8 [00:12<00:00,  1.50s/it]\n"
          ]
        }
      ]
    },
    {
      "cell_type": "code",
      "source": [
        "# Affichage des contributions\n",
        "plt.figure(figsize=(10, 6))\n",
        "plt.bar(features[1:], contributions, color='steelblue')\n",
        "plt.xticks(rotation=45)\n",
        "plt.title('Contribution des variables')\n",
        "plt.xlabel('Variables')\n",
        "plt.ylabel('Contribution (Différence RMSE)')\n",
        "plt.show()"
      ],
      "metadata": {
        "colab": {
          "base_uri": "https://localhost:8080/",
          "height": 638
        },
        "id": "HqGcqvAr-D3I",
        "outputId": "005b5c01-9cb9-4b7b-a379-55e18945b545"
      },
      "execution_count": 29,
      "outputs": [
        {
          "output_type": "display_data",
          "data": {
            "text/plain": [
              "<Figure size 1000x600 with 1 Axes>"
            ],
            "image/png": "[encoded data removed]"
          },
          "metadata": {}
        }
      ]
    },
    {
      "cell_type": "code",
      "source": [
        "df = pd.DataFrame({\n",
        "    'Feature': features[1:],  # Exclure le premier élément si nécessaire\n",
        "    'Contribution': contributions\n",
        "})\n",
        "\n",
        "df.sort_values(by='Contribution', ascending=False)"
      ],
      "metadata": {
        "colab": {
          "base_uri": "https://localhost:8080/",
          "height": 990
        },
        "id": "kjAorjhQPDkh",
        "outputId": "0c26bb7f-3b0c-4dc2-ade0-d6969a5466c8"
      },
      "execution_count": 21,
      "outputs": [
        {
          "output_type": "execute_result",
          "data": {
            "text/plain": [
              "                  Feature  Contribution\n",
              "2                 RSI3Day  4.955531e+00\n",
              "13                   MACD  2.696196e+00\n",
              "5                RSI30Day  1.015200e+00\n",
              "14                 Signal  8.875200e-01\n",
              "18            EMVMACROBUS  2.565315e-01\n",
              "16               SP_Close  1.655486e-01\n",
              "23                  Sigma  7.884313e-02\n",
              "21            LNS12032195  6.486718e-02\n",
              "12            HighLowDiff  4.896305e-02\n",
              "11          CloseOpenDiff  1.712576e-02\n",
              "3                 RSI9Day  1.557195e-02\n",
              "22                UMCSENT  1.920470e-03\n",
              "25  sovereign_debt_crisis  3.552714e-15\n",
              "26              oil_shock  3.552714e-15\n",
              "28         covid_pandemic  3.552714e-15\n",
              "27              trade_war  3.552714e-15\n",
              "29            war_ukraine  3.552714e-15\n",
              "8                 MA50Day -1.193384e-02\n",
              "19               CPIAUCSL -2.600987e-02\n",
              "4                RSI14Day -3.000600e-02\n",
              "15                    OBV -6.133686e-02\n",
              "10            PriceChange -9.575398e-02\n",
              "17              CAC_Close -1.303472e-01\n",
              "0                  Volume -1.607646e-01\n",
              "1                 MAV5Day -2.519150e-01\n",
              "24                 Sigma2 -3.783866e-01\n",
              "20              EXPINF1YR -6.272583e-01\n",
              "7                 MA30Day -8.316657e-01\n",
              "9                EMA10Day -9.598973e-01\n",
              "6                 MA10Day -1.118051e+00"
            ],
            "text/html": [
              "\n",
              "  <div id=\"df-ed3781da-af49-4a78-af89-4109eec0c9e5\" class=\"colab-df-container\">\n",
              "    <div>\n",
              "<style scoped>\n",
              "    .dataframe tbody tr th:only-of-type {\n",
              "        vertical-align: middle;\n",
              "    }\n",
              "\n",
              "    .dataframe tbody tr th {\n",
              "        vertical-align: top;\n",
              "    }\n",
              "\n",
              "    .dataframe thead th {\n",
              "        text-align: right;\n",
              "    }\n",
              "</style>\n",
              "<table border=\"1\" class=\"dataframe\">\n",
              "  <thead>\n",
              "    <tr style=\"text-align: right;\">\n",
              "      <th></th>\n",
              "      <th>Feature</th>\n",
              "      <th>Contribution</th>\n",
              "    </tr>\n",
              "  </thead>\n",
              "  <tbody>\n",
              "    <tr>\n",
              "      <th>2</th>\n",
              "      <td>RSI3Day</td>\n",
              "      <td>4.955531e+00</td>\n",
              "    </tr>\n",
              "    <tr>\n",
              "      <th>13</th>\n",
              "      <td>MACD</td>\n",
              "      <td>2.696196e+00</td>\n",
              "    </tr>\n",
              "    <tr>\n",
              "      <th>5</th>\n",
              "      <td>RSI30Day</td>\n",
              "      <td>1.015200e+00</td>\n",
              "    </tr>\n",
              "    <tr>\n",
              "      <th>14</th>\n",
              "      <td>Signal</td>\n",
              "      <td>8.875200e-01</td>\n",
              "    </tr>\n",
              "    <tr>\n",
              "      <th>18</th>\n",
              "      <td>EMVMACROBUS</td>\n",
              "      <td>2.565315e-01</td>\n",
              "    </tr>\n",
              "    <tr>\n",
              "      <th>16</th>\n",
              "      <td>SP_Close</td>\n",
              "      <td>1.655486e-01</td>\n",
              "    </tr>\n",
              "    <tr>\n",
              "      <th>23</th>\n",
              "      <td>Sigma</td>\n",
              "      <td>7.884313e-02</td>\n",
              "    </tr>\n",
              "    <tr>\n",
              "      <th>21</th>\n",
              "      <td>LNS12032195</td>\n",
              "      <td>6.486718e-02</td>\n",
              "    </tr>\n",
              "    <tr>\n",
              "      <th>12</th>\n",
              "      <td>HighLowDiff</td>\n",
              "      <td>4.896305e-02</td>\n",
              "    </tr>\n",
              "    <tr>\n",
              "      <th>11</th>\n",
              "      <td>CloseOpenDiff</td>\n",
              "      <td>1.712576e-02</td>\n",
              "    </tr>\n",
              "    <tr>\n",
              "      <th>3</th>\n",
              "      <td>RSI9Day</td>\n",
              "      <td>1.557195e-02</td>\n",
              "    </tr>\n",
              "    <tr>\n",
              "      <th>22</th>\n",
              "      <td>UMCSENT</td>\n",
              "      <td>1.920470e-03</td>\n",
              "    </tr>\n",
              "    <tr>\n",
              "      <th>25</th>\n",
              "      <td>sovereign_debt_crisis</td>\n",
              "      <td>3.552714e-15</td>\n",
              "    </tr>\n",
              "    <tr>\n",
              "      <th>26</th>\n",
              "      <td>oil_shock</td>\n",
              "      <td>3.552714e-15</td>\n",
              "    </tr>\n",
              "    <tr>\n",
              "      <th>28</th>\n",
              "      <td>covid_pandemic</td>\n",
              "      <td>3.552714e-15</td>\n",
              "    </tr>\n",
              "    <tr>\n",
              "      <th>27</th>\n",
              "      <td>trade_war</td>\n",
              "      <td>3.552714e-15</td>\n",
              "    </tr>\n",
              "    <tr>\n",
              "      <th>29</th>\n",
              "      <td>war_ukraine</td>\n",
              "      <td>3.552714e-15</td>\n",
              "    </tr>\n",
              "    <tr>\n",
              "      <th>8</th>\n",
              "      <td>MA50Day</td>\n",
              "      <td>-1.193384e-02</td>\n",
              "    </tr>\n",
              "    <tr>\n",
              "      <th>19</th>\n",
              "      <td>CPIAUCSL</td>\n",
              "      <td>-2.600987e-02</td>\n",
              "    </tr>\n",
              "    <tr>\n",
              "      <th>4</th>\n",
              "      <td>RSI14Day</td>\n",
              "      <td>-3.000600e-02</td>\n",
              "    </tr>\n",
              "    <tr>\n",
              "      <th>15</th>\n",
              "      <td>OBV</td>\n",
              "      <td>-6.133686e-02</td>\n",
              "    </tr>\n",
              "    <tr>\n",
              "      <th>10</th>\n",
              "      <td>PriceChange</td>\n",
              "      <td>-9.575398e-02</td>\n",
              "    </tr>\n",
              "    <tr>\n",
              "      <th>17</th>\n",
              "      <td>CAC_Close</td>\n",
              "      <td>-1.303472e-01</td>\n",
              "    </tr>\n",
              "    <tr>\n",
              "      <th>0</th>\n",
              "      <td>Volume</td>\n",
              "      <td>-1.607646e-01</td>\n",
              "    </tr>\n",
              "    <tr>\n",
              "      <th>1</th>\n",
              "      <td>MAV5Day</td>\n",
              "      <td>-2.519150e-01</td>\n",
              "    </tr>\n",
              "    <tr>\n",
              "      <th>24</th>\n",
              "      <td>Sigma2</td>\n",
              "      <td>-3.783866e-01</td>\n",
              "    </tr>\n",
              "    <tr>\n",
              "      <th>20</th>\n",
              "      <td>EXPINF1YR</td>\n",
              "      <td>-6.272583e-01</td>\n",
              "    </tr>\n",
              "    <tr>\n",
              "      <th>7</th>\n",
              "      <td>MA30Day</td>\n",
              "      <td>-8.316657e-01</td>\n",
              "    </tr>\n",
              "    <tr>\n",
              "      <th>9</th>\n",
              "      <td>EMA10Day</td>\n",
              "      <td>-9.598973e-01</td>\n",
              "    </tr>\n",
              "    <tr>\n",
              "      <th>6</th>\n",
              "      <td>MA10Day</td>\n",
              "      <td>-1.118051e+00</td>\n",
              "    </tr>\n",
              "  </tbody>\n",
              "</table>\n",
              "</div>\n",
              "    <div class=\"colab-df-buttons\">\n",
              "\n",
              "  <div class=\"colab-df-container\">\n",
              "    <button class=\"colab-df-convert\" onclick=\"convertToInteractive('df-ed3781da-af49-4a78-af89-4109eec0c9e5')\"\n",
              "            title=\"Convert this dataframe to an interactive table.\"\n",
              "            style=\"display:none;\">\n",
              "\n",
              "  <svg xmlns=\"http://www.w3.org/2000/svg\" height=\"24px\" viewBox=\"0 -960 960 960\">\n",
              "    <path d=\"M120-120v-720h720v720H120Zm60-500h600v-160H180v160Zm220 220h160v-160H400v160Zm0 220h160v-160H400v160ZM180-400h160v-160H180v160Zm440 0h160v-160H620v160ZM180-180h160v-160H180v160Zm440 0h160v-160H620v160Z\"/>\n",
              "  </svg>\n",
              "    </button>\n",
              "\n",
              "  <style>\n",
              "    .colab-df-container {\n",
              "      display:flex;\n",
              "      gap: 12px;\n",
              "    }\n",
              "\n",
              "    .colab-df-convert {\n",
              "      background-color: #E8F0FE;\n",
              "      border: none;\n",
              "      border-radius: 50%;\n",
              "      cursor: pointer;\n",
              "      display: none;\n",
              "      fill: #1967D2;\n",
              "      height: 32px;\n",
              "      padding: 0 0 0 0;\n",
              "      width: 32px;\n",
              "    }\n",
              "\n",
              "    .colab-df-convert:hover {\n",
              "      background-color: #E2EBFA;\n",
              "      box-shadow: 0px 1px 2px rgba(60, 64, 67, 0.3), 0px 1px 3px 1px rgba(60, 64, 67, 0.15);\n",
              "      fill: #174EA6;\n",
              "    }\n",
              "\n",
              "    .colab-df-buttons div {\n",
              "      margin-bottom: 4px;\n",
              "    }\n",
              "\n",
              "    [theme=dark] .colab-df-convert {\n",
              "      background-color: #3B4455;\n",
              "      fill: #D2E3FC;\n",
              "    }\n",
              "\n",
              "    [theme=dark] .colab-df-convert:hover {\n",
              "      background-color: #434B5C;\n",
              "      box-shadow: 0px 1px 3px 1px rgba(0, 0, 0, 0.15);\n",
              "      filter: drop-shadow(0px 1px 2px rgba(0, 0, 0, 0.3));\n",
              "      fill: #FFFFFF;\n",
              "    }\n",
              "  </style>\n",
              "\n",
              "    <script>\n",
              "      const buttonEl =\n",
              "        document.querySelector('#df-ed3781da-af49-4a78-af89-4109eec0c9e5 button.colab-df-convert');\n",
              "      buttonEl.style.display =\n",
              "        google.colab.kernel.accessAllowed ? 'block' : 'none';\n",
              "\n",
              "      async function convertToInteractive(key) {\n",
              "        const element = document.querySelector('#df-ed3781da-af49-4a78-af89-4109eec0c9e5');\n",
              "        const dataTable =\n",
              "          await google.colab.kernel.invokeFunction('convertToInteractive',\n",
              "                                                    [key], {});\n",
              "        if (!dataTable) return;\n",
              "\n",
              "        const docLinkHtml = 'Like what you see? Visit the ' +\n",
              "          '<a target=\"_blank\" href=https://colab.research.google.com/notebooks/data_table.ipynb>data table notebook</a>'\n",
              "          + ' to learn more about interactive tables.';\n",
              "        element.innerHTML = '';\n",
              "        dataTable['output_type'] = 'display_data';\n",
              "        await google.colab.output.renderOutput(dataTable, element);\n",
              "        const docLink = document.createElement('div');\n",
              "        docLink.innerHTML = docLinkHtml;\n",
              "        element.appendChild(docLink);\n",
              "      }\n",
              "    </script>\n",
              "  </div>\n",
              "\n",
              "\n",
              "<div id=\"df-cc912bce-a9bc-4347-b12a-18129421b659\">\n",
              "  <button class=\"colab-df-quickchart\" onclick=\"quickchart('df-cc912bce-a9bc-4347-b12a-18129421b659')\"\n",
              "            title=\"Suggest charts\"\n",
              "            style=\"display:none;\">\n",
              "\n",
              "<svg xmlns=\"http://www.w3.org/2000/svg\" height=\"24px\"viewBox=\"0 0 24 24\"\n",
              "     width=\"24px\">\n",
              "    <g>\n",
              "        <path d=\"M19 3H5c-1.1 0-2 .9-2 2v14c0 1.1.9 2 2 2h14c1.1 0 2-.9 2-2V5c0-1.1-.9-2-2-2zM9 17H7v-7h2v7zm4 0h-2V7h2v10zm4 0h-2v-4h2v4z\"/>\n",
              "    </g>\n",
              "</svg>\n",
              "  </button>\n",
              "\n",
              "<style>\n",
              "  .colab-df-quickchart {\n",
              "      --bg-color: #E8F0FE;\n",
              "      --fill-color: #1967D2;\n",
              "      --hover-bg-color: #E2EBFA;\n",
              "      --hover-fill-color: #174EA6;\n",
              "      --disabled-fill-color: #AAA;\n",
              "      --disabled-bg-color: #DDD;\n",
              "  }\n",
              "\n",
              "  [theme=dark] .colab-df-quickchart {\n",
              "      --bg-color: #3B4455;\n",
              "      --fill-color: #D2E3FC;\n",
              "      --hover-bg-color: #434B5C;\n",
              "      --hover-fill-color: #FFFFFF;\n",
              "      --disabled-bg-color: #3B4455;\n",
              "      --disabled-fill-color: #666;\n",
              "  }\n",
              "\n",
              "  .colab-df-quickchart {\n",
              "    background-color: var(--bg-color);\n",
              "    border: none;\n",
              "    border-radius: 50%;\n",
              "    cursor: pointer;\n",
              "    display: none;\n",
              "    fill: var(--fill-color);\n",
              "    height: 32px;\n",
              "    padding: 0;\n",
              "    width: 32px;\n",
              "  }\n",
              "\n",
              "  .colab-df-quickchart:hover {\n",
              "    background-color: var(--hover-bg-color);\n",
              "    box-shadow: 0 1px 2px rgba(60, 64, 67, 0.3), 0 1px 3px 1px rgba(60, 64, 67, 0.15);\n",
              "    fill: var(--button-hover-fill-color);\n",
              "  }\n",
              "\n",
              "  .colab-df-quickchart-complete:disabled,\n",
              "  .colab-df-quickchart-complete:disabled:hover {\n",
              "    background-color: var(--disabled-bg-color);\n",
              "    fill: var(--disabled-fill-color);\n",
              "    box-shadow: none;\n",
              "  }\n",
              "\n",
              "  .colab-df-spinner {\n",
              "    border: 2px solid var(--fill-color);\n",
              "    border-color: transparent;\n",
              "    border-bottom-color: var(--fill-color);\n",
              "    animation:\n",
              "      spin 1s steps(1) infinite;\n",
              "  }\n",
              "\n",
              "  @keyframes spin {\n",
              "    0% {\n",
              "      border-color: transparent;\n",
              "      border-bottom-color: var(--fill-color);\n",
              "      border-left-color: var(--fill-color);\n",
              "    }\n",
              "    20% {\n",
              "      border-color: transparent;\n",
              "      border-left-color: var(--fill-color);\n",
              "      border-top-color: var(--fill-color);\n",
              "    }\n",
              "    30% {\n",
              "      border-color: transparent;\n",
              "      border-left-color: var(--fill-color);\n",
              "      border-top-color: var(--fill-color);\n",
              "      border-right-color: var(--fill-color);\n",
              "    }\n",
              "    40% {\n",
              "      border-color: transparent;\n",
              "      border-right-color: var(--fill-color);\n",
              "      border-top-color: var(--fill-color);\n",
              "    }\n",
              "    60% {\n",
              "      border-color: transparent;\n",
              "      border-right-color: var(--fill-color);\n",
              "    }\n",
              "    80% {\n",
              "      border-color: transparent;\n",
              "      border-right-color: var(--fill-color);\n",
              "      border-bottom-color: var(--fill-color);\n",
              "    }\n",
              "    90% {\n",
              "      border-color: transparent;\n",
              "      border-bottom-color: var(--fill-color);\n",
              "    }\n",
              "  }\n",
              "</style>\n",
              "\n",
              "  <script>\n",
              "    async function quickchart(key) {\n",
              "      const quickchartButtonEl =\n",
              "        document.querySelector('#' + key + ' button');\n",
              "      quickchartButtonEl.disabled = true;  // To prevent multiple clicks.\n",
              "      quickchartButtonEl.classList.add('colab-df-spinner');\n",
              "      try {\n",
              "        const charts = await google.colab.kernel.invokeFunction(\n",
              "            'suggestCharts', [key], {});\n",
              "      } catch (error) {\n",
              "        console.error('Error during call to suggestCharts:', error);\n",
              "      }\n",
              "      quickchartButtonEl.classList.remove('colab-df-spinner');\n",
              "      quickchartButtonEl.classList.add('colab-df-quickchart-complete');\n",
              "    }\n",
              "    (() => {\n",
              "      let quickchartButtonEl =\n",
              "        document.querySelector('#df-cc912bce-a9bc-4347-b12a-18129421b659 button');\n",
              "      quickchartButtonEl.style.display =\n",
              "        google.colab.kernel.accessAllowed ? 'block' : 'none';\n",
              "    })();\n",
              "  </script>\n",
              "</div>\n",
              "\n",
              "    </div>\n",
              "  </div>\n"
            ],
            "application/vnd.google.colaboratory.intrinsic+json": {
              "type": "dataframe",
              "summary": "{\n  \"name\": \"df\",\n  \"rows\": 30,\n  \"fields\": [\n    {\n      \"column\": \"Feature\",\n      \"properties\": {\n        \"dtype\": \"string\",\n        \"num_unique_values\": 30,\n        \"samples\": [\n          \"MA30Day\",\n          \"trade_war\",\n          \"Volume\"\n        ],\n        \"semantic_type\": \"\",\n        \"description\": \"\"\n      }\n    },\n    {\n      \"column\": \"Contribution\",\n      \"properties\": {\n        \"dtype\": \"number\",\n        \"std\": 1.118133917745263,\n        \"min\": -1.1180509971622392,\n        \"max\": 4.955530658261214,\n        \"num_unique_values\": 26,\n        \"samples\": [\n          0.048963045019025486,\n          -0.06133685763324337,\n          4.955530658261214\n        ],\n        \"semantic_type\": \"\",\n        \"description\": \"\"\n      }\n    }\n  ]\n}"
            }
          },
          "metadata": {},
          "execution_count": 21
        }
      ]
    },
    {
      "cell_type": "code",
      "source": [],
      "metadata": {
        "id": "EKMQCBBc-mSJ"
      },
      "execution_count": 175,
      "outputs": []
    }
  ]
}